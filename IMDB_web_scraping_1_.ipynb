{
  "cells": [
    {
      "cell_type": "markdown",
      "source": [
        "# importing required modules\n",
        "\n",
        "BeautifulSoup\n",
        "requests\n",
        "openpyxl"
      ],
      "metadata": {
        "id": "XsX8zp62uQA9"
      }
    },
    {
      "cell_type": "code",
      "execution_count": 67,
      "metadata": {
        "id": "y9fiiEqiftgb"
      },
      "outputs": [],
      "source": [
        "from bs4 import BeautifulSoup\n",
        "import requests,openpyxl"
      ]
    },
    {
      "cell_type": "code",
      "execution_count": 83,
      "metadata": {
        "colab": {
          "base_uri": "https://localhost:8080/"
        },
        "id": "Z9beo-azf9Nl",
        "outputId": "fb3cc367-b2f4-4d1b-abad-b68db1cdda36",
        "collapsed": true
      },
      "outputs": [
        {
          "output_type": "stream",
          "name": "stdout",
          "text": [
            " The Shawshank Redemption\n",
            " The Godfather\n",
            " The Dark Knight\n",
            " The Godfather Part II\n",
            " 12 Angry Men\n",
            " Schindler's List\n",
            " The Lord of the Rings: The Return of the King\n",
            " Pulp Fiction\n",
            " The Lord of the Rings: The Fellowship of the Ring\n",
            " The Good, the Bad and the Ugly\n",
            " Forrest Gump\n",
            " The Lord of the Rings: The Two Towers\n",
            " Fight Club\n",
            " Inception\n",
            " Star Wars: Episode V - The Empire Strikes Back\n",
            " The Matrix\n",
            " Goodfellas\n",
            " One Flew Over the Cuckoo's Nest\n",
            " Se7en\n",
            " Interstellar\n",
            " It's a Wonderful Life\n",
            " Seven Samurai\n",
            " The Silence of the Lambs\n",
            " Saving Private Ryan\n",
            " City of God\n"
          ]
        }
      ],
      "source": [
        "excel = openpyxl.Workbook()\n",
        "sheet = excel.active\n",
        "sheet.title = \"Movie_list\"\n",
        "sheet.append([\"Rank\",\"Name\",\"Rating\",\"Vote\",\"Year\"])\n",
        "\n",
        "#sheet.append()\n",
        "\n",
        "try :\n",
        "  #response = requests.get(https://www.imdb.com/chart/top/)\n",
        "\n",
        "  URL=\"https://www.imdb.com/chart/top/\"\n",
        "  USER_AGENT = \"Mozilla/5.0 (Macintosh; Intel Mac OS X 10.14; rv:65.0) Gecko/20100101 Firefox/65.0\"\n",
        "  headers = {\"user-agent\": USER_AGENT} # adding the user agent\n",
        "  resp = requests.get(URL, headers=headers)\n",
        "  soup = BeautifulSoup(resp.content, \"html.parser\")\n",
        "\n",
        "  movies = soup.find('ul', class_=\"ipc-metadata-list ipc-metadata-list--dividers-between sc-a1e81754-0 dHaCOW compact-list-view ipc-metadata-list--base\").find_all('li')\n",
        "  #print(movies)<a class=\"ipc-title-link-wrapper\" href=\"/title/tt0111161/?ref_=chttp_t_1\" tabindex=\"0\">\n",
        "  #<h3 class=\"ipc-title__text\">1. The Shawshank Redemption</h3></a>\n",
        "  for movie in movies:\n",
        "  #for movie in movies:\n",
        "    #print(movie)\n",
        "\n",
        "    movie_rank = movie.find('h3',class_=\"ipc-title__text\").text.split('.')[0]\n",
        "    movie_names = movie.find('h3',class_=\"ipc-title__text\").text.split('.')[1]\n",
        "    movie_rating= movie.find('span',class_=\"ipc-rating-star--rating\").text\n",
        "    movie_vote_cnt = movie.find('span',class_=\"ipc-rating-star--voteCount\").text\n",
        "    movie_year = movie.find('span',class_ =\"sc-b189961a-8 hCbzGp cli-title-metadata-item\").text\n",
        "    #movie_duration = movie.find('span',class_=\"sc-b189961a-8 hCbzGp cli-title-metadata-item\").text\n",
        "    #movie_rate = movie.find('span',class_=\"sc-b189961a-7 btCcOY cli-title-metadata\").text\n",
        "    #print(movie_rank,movie_names,movie_rating,movie_vote_cnt,movie_year)\n",
        "    #sheet.append([movie_rank,movie_names,movie_rating,movie_vote_cnt,movie_year])\n",
        "    print(movie_names)\n",
        "    # print(movie_rating)\n",
        "    # print(movie_vote_cnt)\n",
        "    # print(movie_year)\n",
        "    # print(movie_duration)\n",
        "    # print(movie_rate)\n",
        "\n",
        "except Exception as e:\n",
        "  print(e)\n",
        "\n",
        "#excel.save(\"Scrape_movie_data.xlsx\")\n"
      ]
    },
    {
      "cell_type": "code",
      "execution_count": null,
      "metadata": {
        "id": "3ulpt_Ruf9PJ"
      },
      "outputs": [],
      "source": []
    },
    {
      "cell_type": "code",
      "execution_count": null,
      "metadata": {
        "id": "y6MWqa10f9jO"
      },
      "outputs": [],
      "source": []
    },
    {
      "cell_type": "code",
      "execution_count": null,
      "metadata": {
        "id": "r-R8Gt_4f9kx"
      },
      "outputs": [],
      "source": []
    }
  ],
  "metadata": {
    "colab": {
      "provenance": []
    },
    "kernelspec": {
      "display_name": "Python 3",
      "name": "python3"
    },
    "language_info": {
      "name": "python"
    }
  },
  "nbformat": 4,
  "nbformat_minor": 0
}